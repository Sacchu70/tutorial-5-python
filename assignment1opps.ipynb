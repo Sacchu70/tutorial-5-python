{
 "cells": [
  {
   "cell_type": "markdown",
   "id": "991f2ff0-3fa6-4cc3-84e5-96b200b9e606",
   "metadata": {},
   "source": [
    "Q1. Explain Class and Object with respect to Object-Oriented Programming. Give a suitable example."
   ]
  },
  {
   "cell_type": "raw",
   "id": "7d698242-c2e8-4e86-85df-abb3d42491df",
   "metadata": {},
   "source": [
    "class - class is a collection of data for specific thing.\n",
    "object - object is data which used in class."
   ]
  },
  {
   "cell_type": "raw",
   "id": "2ed70fdb-bcf7-4239-a4d1-854c7a0dbd0d",
   "metadata": {},
   "source": [
    "example:"
   ]
  },
  {
   "cell_type": "code",
   "execution_count": 4,
   "id": "0200d089-cf29-470f-b5f5-8f6591e887b6",
   "metadata": {},
   "outputs": [],
   "source": [
    "class student:\n",
    "    pass\n",
    "# student is a class"
   ]
  },
  {
   "cell_type": "code",
   "execution_count": 5,
   "id": "41aa2470-81a9-4351-b653-1fe5f604417d",
   "metadata": {},
   "outputs": [],
   "source": [
    "sachin = student() # sachin is an object of class student "
   ]
  },
  {
   "cell_type": "code",
   "execution_count": 7,
   "id": "855b156b-588a-4ca0-b983-5d0c02aede67",
   "metadata": {},
   "outputs": [
    {
     "name": "stdout",
     "output_type": "stream",
     "text": [
      "<class '__main__.student'>\n"
     ]
    }
   ],
   "source": [
    "print(type(sachin))"
   ]
  },
  {
   "cell_type": "markdown",
   "id": "6b86c402-8dcb-4a0b-923f-6d65d918b06a",
   "metadata": {},
   "source": [
    "Q2. Name the four pillars of OOPs."
   ]
  },
  {
   "cell_type": "raw",
   "id": "6d0d9e21-ddd5-41ab-9f37-d573beb72a3c",
   "metadata": {},
   "source": [
    "The four pillars of oops is:\n",
    "1 . Encapsulation\n",
    "2.  Abstraction\n",
    "3.  Polymorphism\n",
    "4.  inheritance\n"
   ]
  },
  {
   "cell_type": "markdown",
   "id": "560fe1b4-ebfb-43f1-bb74-7655a1b8c204",
   "metadata": {},
   "source": [
    "Q3. Explain why the __init__() function is used. Give a suitable example."
   ]
  },
  {
   "cell_type": "raw",
   "id": "62e9a0ea-0030-4884-a9bb-11aa92cbc6cc",
   "metadata": {},
   "source": [
    "init() used to defined instance variable as a blueprint of class."
   ]
  },
  {
   "cell_type": "markdown",
   "id": "d3629c18-384d-4022-b801-1f5ee6affbfb",
   "metadata": {},
   "source": [
    "example:"
   ]
  },
  {
   "cell_type": "code",
   "execution_count": 9,
   "id": "47b19522-3010-4c20-b999-d5218727193e",
   "metadata": {},
   "outputs": [],
   "source": [
    "class bike:\n",
    "    def __init__(self,name,average):\n",
    "        self.name = name\n",
    "        self.average = average\n",
    "        \n",
    "        \n",
    "        "
   ]
  },
  {
   "cell_type": "code",
   "execution_count": 10,
   "id": "0a7a2b70-de5d-43eb-b2c3-0c5e0d36aefd",
   "metadata": {},
   "outputs": [],
   "source": [
    "a1 = bike(\"pulser\",45)"
   ]
  },
  {
   "cell_type": "code",
   "execution_count": 11,
   "id": "762a13f8-512f-4a20-b7ab-175c34b9c08c",
   "metadata": {},
   "outputs": [
    {
     "data": {
      "text/plain": [
       "'pulser'"
      ]
     },
     "execution_count": 11,
     "metadata": {},
     "output_type": "execute_result"
    }
   ],
   "source": [
    "a1.name"
   ]
  },
  {
   "cell_type": "code",
   "execution_count": 12,
   "id": "6b07d9de-3125-4169-b407-a40b0ca5b3eb",
   "metadata": {},
   "outputs": [
    {
     "data": {
      "text/plain": [
       "45"
      ]
     },
     "execution_count": 12,
     "metadata": {},
     "output_type": "execute_result"
    }
   ],
   "source": [
    "a1.average"
   ]
  },
  {
   "cell_type": "markdown",
   "id": "b0d47a0d-0965-46da-8071-ae87be2923c1",
   "metadata": {},
   "source": [
    "Q4. Why self is used in OOPs?"
   ]
  },
  {
   "cell_type": "raw",
   "id": "25996c1d-014a-4950-b753-dd2bdc4cf6af",
   "metadata": {},
   "source": [
    "self is used to join the function with object of class."
   ]
  },
  {
   "cell_type": "markdown",
   "id": "cc0a0877-dfd8-4931-876c-0dc4f99e365e",
   "metadata": {},
   "source": [
    "Q5. What is inheritance? Give an example for each type of inheritance."
   ]
  },
  {
   "cell_type": "raw",
   "id": "7ffc5fa8-5da3-4c38-97bd-7e0d7752c5f7",
   "metadata": {},
   "source": [
    "Inheritance is process to combine two or more classes."
   ]
  },
  {
   "cell_type": "markdown",
   "id": "8ba8f36c-a914-4e11-804a-286ce826f5dc",
   "metadata": {},
   "source": [
    "example:"
   ]
  },
  {
   "cell_type": "code",
   "execution_count": null,
   "id": "6c1f1007-2c68-4928-8c41-375ea72217a3",
   "metadata": {},
   "outputs": [],
   "source": [
    "# single inheritance"
   ]
  },
  {
   "cell_type": "code",
   "execution_count": 25,
   "id": "4035cb08-d88f-49d1-a23a-5681c17278cf",
   "metadata": {},
   "outputs": [],
   "source": [
    "class test:\n",
    "    \n",
    "    def string_split(self):\n",
    "        a = self.name\n",
    "        print(a)"
   ]
  },
  {
   "cell_type": "code",
   "execution_count": 26,
   "id": "d55ece6c-f3ca-41de-b9b1-0c12897407aa",
   "metadata": {},
   "outputs": [],
   "source": [
    "s1 = test()\n",
    "s1.name = \"sachin\""
   ]
  },
  {
   "cell_type": "code",
   "execution_count": 29,
   "id": "9b5946f0-d4b5-4b9c-9463-6959bd30ab52",
   "metadata": {},
   "outputs": [],
   "source": [
    "class test1(test):\n",
    "    pass\n",
    "\n",
    "s2 = test1()\n",
    "s2.name = \"gaurav\""
   ]
  },
  {
   "cell_type": "code",
   "execution_count": 28,
   "id": "7d1a389d-25df-4726-b8c5-9c2621a25b7d",
   "metadata": {},
   "outputs": [
    {
     "name": "stdout",
     "output_type": "stream",
     "text": [
      "sachin\n"
     ]
    }
   ],
   "source": [
    "s1.string_split()"
   ]
  },
  {
   "cell_type": "code",
   "execution_count": 30,
   "id": "da242b06-3937-43be-af3d-08e689fd1378",
   "metadata": {},
   "outputs": [
    {
     "name": "stdout",
     "output_type": "stream",
     "text": [
      "gaurav\n"
     ]
    }
   ],
   "source": [
    "s2.string_split()"
   ]
  },
  {
   "cell_type": "code",
   "execution_count": 31,
   "id": "7c0af41b-c250-4fc1-9855-805a11c3d16a",
   "metadata": {},
   "outputs": [],
   "source": [
    "# multilevel inheritance"
   ]
  },
  {
   "cell_type": "code",
   "execution_count": 32,
   "id": "bf0447d2-1021-4323-a3c6-3b95667aeec8",
   "metadata": {},
   "outputs": [],
   "source": [
    "class test2():\n",
    "     \n",
    "    def name():\n",
    "        print(\"sachin\")\n",
    "        "
   ]
  },
  {
   "cell_type": "code",
   "execution_count": 41,
   "id": "6cbd98a6-b3fd-47c8-bf7c-4a9118fa5f3e",
   "metadata": {},
   "outputs": [
    {
     "data": {
      "text/plain": [
       "'priya'"
      ]
     },
     "execution_count": 41,
     "metadata": {},
     "output_type": "execute_result"
    }
   ],
   "source": [
    "class test3(test2):\n",
    "    pass\n",
    "\n",
    "s3 = test3()\n",
    "s3.name = \"priya\"\n",
    "\n",
    "s3.name\n",
    "    "
   ]
  },
  {
   "cell_type": "code",
   "execution_count": 43,
   "id": "c53bb48b-8896-4d5d-86af-ca929aa83d29",
   "metadata": {},
   "outputs": [
    {
     "data": {
      "text/plain": [
       "'gunnu'"
      ]
     },
     "execution_count": 43,
     "metadata": {},
     "output_type": "execute_result"
    }
   ],
   "source": [
    "class test4(test3):\n",
    "    pass\n",
    "\n",
    "s4 = test4()\n",
    "s4.name = \"gunnu\"\n",
    "\n",
    "s4.name"
   ]
  },
  {
   "cell_type": "code",
   "execution_count": 44,
   "id": "570613e6-7afd-4442-885d-3b1f079e8d00",
   "metadata": {},
   "outputs": [],
   "source": [
    "#multiple inheritance"
   ]
  },
  {
   "cell_type": "code",
   "execution_count": null,
   "id": "3c98d0ec-5630-4ec0-b37f-9e2cc6a02d20",
   "metadata": {},
   "outputs": [],
   "source": [
    "class multi_level(test,test2):"
   ]
  }
 ],
 "metadata": {
  "kernelspec": {
   "display_name": "Python 3 (ipykernel)",
   "language": "python",
   "name": "python3"
  },
  "language_info": {
   "codemirror_mode": {
    "name": "ipython",
    "version": 3
   },
   "file_extension": ".py",
   "mimetype": "text/x-python",
   "name": "python",
   "nbconvert_exporter": "python",
   "pygments_lexer": "ipython3",
   "version": "3.10.8"
  }
 },
 "nbformat": 4,
 "nbformat_minor": 5
}
